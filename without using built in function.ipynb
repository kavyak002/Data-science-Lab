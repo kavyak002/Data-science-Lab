{
 "cells": [
  {
   "cell_type": "code",
   "execution_count": 1,
   "id": "24c276b9",
   "metadata": {},
   "outputs": [
    {
     "name": "stdout",
     "output_type": "stream",
     "text": [
      "Enter the No of Values : 10\n"
     ]
    }
   ],
   "source": [
    "#sigma=population standard deviation\n",
    "#mu=population mean\n",
    "\n",
    "import numpy as np\n",
    "import math\n",
    "n=int(input(\"Enter the No of Values : \"))\n",
    "mylist=[]\n",
    "variance=0\n",
    "summ=0"
   ]
  },
  {
   "cell_type": "code",
   "execution_count": 2,
   "id": "ba138c58",
   "metadata": {},
   "outputs": [
    {
     "name": "stdout",
     "output_type": "stream",
     "text": [
      "Enter the Value : 4\n",
      "Enter the Value : 34\n",
      "Enter the Value : 15\n",
      "Enter the Value : 18\n",
      "Enter the Value : 21\n",
      "Enter the Value : 33\n",
      "Enter the Value : 9\n",
      "Enter the Value : 25\n",
      "Enter the Value : 16\n",
      "Enter the Value : 20\n"
     ]
    }
   ],
   "source": [
    "for i in range(n):\n",
    "    ele=int(input(\"Enter the Value : \"))\n",
    "    mylist.append(ele)\n",
    "    summ=summ+ele"
   ]
  },
  {
   "cell_type": "code",
   "execution_count": 3,
   "id": "97d870d6",
   "metadata": {},
   "outputs": [
    {
     "data": {
      "text/plain": [
       "[4, 9, 15, 16, 18, 20, 21, 25, 33, 34]"
      ]
     },
     "execution_count": 3,
     "metadata": {},
     "output_type": "execute_result"
    }
   ],
   "source": [
    "#sorting the data in mylist\n",
    "for i in range(n):\n",
    "    for j in range(0, n-i-1):\n",
    "        if mylist[j] > mylist[j+1]:\n",
    "            temp=mylist[j]\n",
    "            mylist[j]=mylist[j+1]\n",
    "            mylist[j+1]=temp\n",
    "mylist"
   ]
  },
  {
   "cell_type": "code",
   "execution_count": 4,
   "id": "e4cb4e52",
   "metadata": {},
   "outputs": [
    {
     "name": "stdout",
     "output_type": "stream",
     "text": [
      "Maximum  value is :  34\n",
      "Minimum  value is :  4\n"
     ]
    }
   ],
   "source": [
    "maxx=np.max(mylist)\n",
    "print(\"Maximum  value is : \",maxx)\n",
    "minn=np.min(mylist)\n",
    "print(\"Minimum  value is : \",minn)"
   ]
  },
  {
   "cell_type": "code",
   "execution_count": 5,
   "id": "6287c826",
   "metadata": {},
   "outputs": [
    {
     "name": "stdout",
     "output_type": "stream",
     "text": [
      "The Range is :  30\n"
     ]
    }
   ],
   "source": [
    "#Range\n",
    "\n",
    "rangee=maxx-minn\n",
    "print(\"The Range is : \",rangee)"
   ]
  },
  {
   "cell_type": "code",
   "execution_count": 6,
   "id": "423e53f0",
   "metadata": {},
   "outputs": [
    {
     "name": "stdout",
     "output_type": "stream",
     "text": [
      "Mean is :  19.5\n"
     ]
    }
   ],
   "source": [
    "#Mean\n",
    "\n",
    "mean=summ/n\n",
    "print(\"Mean is : \",mean)"
   ]
  },
  {
   "cell_type": "code",
   "execution_count": 7,
   "id": "a86786d4",
   "metadata": {},
   "outputs": [
    {
     "name": "stdout",
     "output_type": "stream",
     "text": [
      "Variance is :  81.05\n"
     ]
    }
   ],
   "source": [
    "#variance\n",
    "\n",
    "for i in range(0,n):\n",
    "    variance=variance+(pow((mylist[i]-mean),2))/n\n",
    "print(\"Variance is : \",variance)"
   ]
  },
  {
   "cell_type": "code",
   "execution_count": 8,
   "id": "9d627948",
   "metadata": {},
   "outputs": [
    {
     "name": "stdout",
     "output_type": "stream",
     "text": [
      "Standard Deviation is :  9.002777349240622\n"
     ]
    }
   ],
   "source": [
    "#standard deviation\n",
    "\n",
    "sd=math.sqrt(variance)\n",
    "\n",
    "print(\"Standard Deviation is : \",sd)"
   ]
  },
  {
   "cell_type": "code",
   "execution_count": 9,
   "id": "295f5dc2",
   "metadata": {},
   "outputs": [
    {
     "name": "stdout",
     "output_type": "stream",
     "text": [
      "Coefficient of Range :  0.7894736842105263\n"
     ]
    }
   ],
   "source": [
    "#coefficient of range\n",
    "\n",
    "CoE=(maxx-minn)/(maxx+minn)\n",
    "print(\"Coefficient of Range : \",CoE)"
   ]
  },
  {
   "cell_type": "code",
   "execution_count": 10,
   "id": "9240c7f8",
   "metadata": {},
   "outputs": [
    {
     "name": "stdout",
     "output_type": "stream",
     "text": [
      "Coefficient of Variation :  0.46168088970464727\n"
     ]
    }
   ],
   "source": [
    "#Coefficient of Variation\n",
    "\n",
    "CoV=sd/mean\n",
    "print(\"Coefficient of Variation : \",CoV)"
   ]
  },
  {
   "cell_type": "code",
   "execution_count": 11,
   "id": "48d9d498",
   "metadata": {},
   "outputs": [
    {
     "name": "stdout",
     "output_type": "stream",
     "text": [
      "Quartile Q1 is :  2.75\n",
      "Quartile Q3 is :  8.25\n",
      "Inter Quartile Range is :  5.5\n",
      "Qurtile value at q1 is  13.5\n",
      "Qurtile value at q3 is  27.0\n"
     ]
    }
   ],
   "source": [
    "n=len(mylist)\n",
    "\n",
    "#Quartile Formula Q1\n",
    "\n",
    "q1=(n+1)/4\n",
    "\n",
    "#Quartile Formula Q1\n",
    "\n",
    "q3=3*(n+1)/4\n",
    "\n",
    "#InterQuartile Range IQR\n",
    "\n",
    "iqr=q3-q1\n",
    "\n",
    "#divmod function seperates integer and decimal\n",
    "\n",
    "i,d=divmod(q1,1)\n",
    "\n",
    "q1value=mylist[int(i-1)]+d*(mylist[int(i)]-mylist[int(i-1)])\n",
    "\n",
    "j,d=divmod(q3,1)\n",
    "\n",
    "q2value=mylist[int(j-1)]+d*(mylist[int(j)]-mylist[int(j-1)])\n",
    "\n",
    "print(\"Quartile Q1 is : \",q1)\n",
    "print(\"Quartile Q3 is : \",q3)\n",
    "print(\"Inter Quartile Range is : \",iqr)\n",
    "print(\"Qurtile value at q1 is \",q1value)\n",
    "print(\"Qurtile value at q3 is \",q2value)"
   ]
  },
  {
   "cell_type": "code",
   "execution_count": 12,
   "id": "ea34448b",
   "metadata": {},
   "outputs": [
    {
     "name": "stdout",
     "output_type": "stream",
     "text": [
      "Enter the value of Percentile7\n",
      "The Percentile Value is  10.899999999999999\n"
     ]
    }
   ],
   "source": [
    "#percentile for ungrouped data\n",
    "p=int(input(\"Enter the value of Percentile\"))\n",
    "p=p/100\n",
    "percentile=p*(n+1)\n",
    "#divmod function seperates integer and decimal\n",
    "i,d=divmod(percentile,1)\n",
    "pvalue=mylist[int(i-1)]+d*(mylist[int(i)]-mylist[int(i-1)])\n",
    "print(\"The Percentile Value is \",pvalue)"
   ]
  },
  {
   "cell_type": "code",
   "execution_count": 13,
   "id": "b79a5eea",
   "metadata": {},
   "outputs": [
    {
     "name": "stdout",
     "output_type": "stream",
     "text": [
      "Enter the value of the decile b/w 1 and 10: 4\n",
      "the Decile Value is  16.8\n"
     ]
    }
   ],
   "source": [
    "#decile for ungrouped data\n",
    "de=input(\"Enter the value of the decile b/w 1 and 10: \")\n",
    "decile=((n+1)*int(de))/10\n",
    "#divmod function seperates integer and decimal\n",
    "i,d=divmod(decile,1)\n",
    "decilevalue=pvalue=mylist[int(i-1)]+d*(mylist[int(i)]-mylist[int(i-1)])\n",
    "print(\"the Decile Value is \",decilevalue)"
   ]
  },
  {
   "cell_type": "code",
   "execution_count": null,
   "id": "e0100eb9",
   "metadata": {},
   "outputs": [],
   "source": []
  }
 ],
 "metadata": {
  "kernelspec": {
   "display_name": "Python 3 (ipykernel)",
   "language": "python",
   "name": "python3"
  },
  "language_info": {
   "codemirror_mode": {
    "name": "ipython",
    "version": 3
   },
   "file_extension": ".py",
   "mimetype": "text/x-python",
   "name": "python",
   "nbconvert_exporter": "python",
   "pygments_lexer": "ipython3",
   "version": "3.9.12"
  }
 },
 "nbformat": 4,
 "nbformat_minor": 5
}
