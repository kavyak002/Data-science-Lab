{
  "nbformat": 4,
  "nbformat_minor": 0,
  "metadata": {
    "colab": {
      "provenance": []
    },
    "kernelspec": {
      "name": "python3",
      "display_name": "Python 3"
    },
    "language_info": {
      "name": "python"
    }
  },
  "cells": [
    {
      "cell_type": "markdown",
      "source": [
        "Perform a numerical analysis and data manipulation using the NumPy library"
      ],
      "metadata": {
        "id": "OnScJ8BmO65B"
      }
    },
    {
      "cell_type": "markdown",
      "source": [
        "1.Creae a NumPy array"
      ],
      "metadata": {
        "id": "-zP-61cYPQ6Y"
      }
    },
    {
      "cell_type": "code",
      "execution_count": null,
      "metadata": {
        "id": "_-hQWv9mLY2_",
        "colab": {
          "base_uri": "https://localhost:8080/"
        },
        "outputId": "08d767e7-1258-4256-bb56-182c3178c221"
      },
      "outputs": [
        {
          "output_type": "stream",
          "name": "stdout",
          "text": [
            "[1 2 3]\n"
          ]
        }
      ],
      "source": [
        "import numpy as np\n",
        "arr1=np.array([1,2,3])\n",
        "print(arr1)"
      ]
    },
    {
      "cell_type": "markdown",
      "source": [
        "2.Access and manipulate elements in the array."
      ],
      "metadata": {
        "id": "ZoOGYjhLPbOQ"
      }
    },
    {
      "cell_type": "code",
      "source": [
        "arr1[2]"
      ],
      "metadata": {
        "colab": {
          "base_uri": "https://localhost:8080/"
        },
        "id": "TsUFmXY_N2z5",
        "outputId": "efc15f35-7011-4422-bc0b-9cc71d761dc3"
      },
      "execution_count": null,
      "outputs": [
        {
          "output_type": "execute_result",
          "data": {
            "text/plain": [
              "3"
            ]
          },
          "metadata": {},
          "execution_count": 3
        }
      ]
    },
    {
      "cell_type": "code",
      "source": [
        "arr1[2]=5\n",
        "arr1"
      ],
      "metadata": {
        "colab": {
          "base_uri": "https://localhost:8080/"
        },
        "id": "BAAbP9XEOAxI",
        "outputId": "369cf7ea-5b55-4a14-d994-ddaf6714ca49"
      },
      "execution_count": null,
      "outputs": [
        {
          "output_type": "execute_result",
          "data": {
            "text/plain": [
              "array([1, 2, 5])"
            ]
          },
          "metadata": {},
          "execution_count": 6
        }
      ]
    },
    {
      "cell_type": "markdown",
      "source": [
        "3.Create a 2 dimensional array and check the shape of the array."
      ],
      "metadata": {
        "id": "MEPC-GDpPynY"
      }
    },
    {
      "cell_type": "code",
      "source": [
        "arr2=np.array([[1,2,3],[4,5,6]])\n",
        "print(arr2)"
      ],
      "metadata": {
        "colab": {
          "base_uri": "https://localhost:8080/"
        },
        "id": "Uhyauk9-OT2v",
        "outputId": "4ae476ee-7412-46b0-fc20-7842759b63ed"
      },
      "execution_count": null,
      "outputs": [
        {
          "output_type": "stream",
          "name": "stdout",
          "text": [
            "[[1 2 3]\n",
            " [4 5 6]]\n"
          ]
        }
      ]
    },
    {
      "cell_type": "code",
      "source": [
        "print(\"The shape is 2 rows and 3 columns\",arr2.shape)"
      ],
      "metadata": {
        "colab": {
          "base_uri": "https://localhost:8080/"
        },
        "id": "CQRsJcZCQNWH",
        "outputId": "6c09b193-4eee-46c0-88f8-9fe9073c92e1"
      },
      "execution_count": null,
      "outputs": [
        {
          "output_type": "stream",
          "name": "stdout",
          "text": [
            "The shape is 2 rows and 3 columns (2, 3)\n"
          ]
        }
      ]
    },
    {
      "cell_type": "markdown",
      "source": [
        "4.Access elements from the 2D array using index positions."
      ],
      "metadata": {
        "id": "kkqUIsnYRoih"
      }
    },
    {
      "cell_type": "code",
      "source": [
        "print(arr2[0][2])\n",
        "print(arr2[0,2])\n",
        "print(arr2[0,-1])\n",
        "print(arr2[-1,0])"
      ],
      "metadata": {
        "colab": {
          "base_uri": "https://localhost:8080/"
        },
        "id": "2IObJNa5RRf4",
        "outputId": "25b9bf96-5913-43c6-a656-8064c88f00fd"
      },
      "execution_count": null,
      "outputs": [
        {
          "output_type": "stream",
          "name": "stdout",
          "text": [
            "3\n",
            "3\n",
            "3\n",
            "4\n"
          ]
        }
      ]
    },
    {
      "cell_type": "markdown",
      "source": [
        "5.Create an array of type string."
      ],
      "metadata": {
        "id": "Ffm04rV2SAWZ"
      }
    },
    {
      "cell_type": "code",
      "source": [
        "arr3=np.array([\"India\",\"China\",\"USA\",\"Mexico\"])\n",
        "print(arr3)"
      ],
      "metadata": {
        "colab": {
          "base_uri": "https://localhost:8080/"
        },
        "id": "7rC9Qj9LR9y4",
        "outputId": "ba035528-bd51-4016-ea4c-88234d82757a"
      },
      "execution_count": null,
      "outputs": [
        {
          "output_type": "stream",
          "name": "stdout",
          "text": [
            "['India' 'China' 'USA' 'Mexico']\n"
          ]
        }
      ]
    },
    {
      "cell_type": "markdown",
      "source": [
        "6.Using the arange() and linspace() functions to evenly space values in a space."
      ],
      "metadata": {
        "id": "z7Hb3Fe1Tz34"
      }
    },
    {
      "cell_type": "code",
      "source": [
        "arr=np.arange(0,20,2)\n",
        "print(arr)"
      ],
      "metadata": {
        "colab": {
          "base_uri": "https://localhost:8080/"
        },
        "id": "tZBRIgrVTTpQ",
        "outputId": "36ef15ea-34c5-4b6f-f0a3-7967480b0d25"
      },
      "execution_count": null,
      "outputs": [
        {
          "output_type": "stream",
          "name": "stdout",
          "text": [
            "[ 0  2  4  6  8 10 12 14 16 18]\n"
          ]
        }
      ]
    },
    {
      "cell_type": "code",
      "source": [
        "arr=np.linspace(0,10,20)\n",
        "print(arr)"
      ],
      "metadata": {
        "colab": {
          "base_uri": "https://localhost:8080/"
        },
        "id": "QycaEBESUPVh",
        "outputId": "afe7e903-c94e-4f4f-e6cc-1058753274ce"
      },
      "execution_count": null,
      "outputs": [
        {
          "output_type": "stream",
          "name": "stdout",
          "text": [
            "[ 0.          0.52631579  1.05263158  1.57894737  2.10526316  2.63157895\n",
            "  3.15789474  3.68421053  4.21052632  4.73684211  5.26315789  5.78947368\n",
            "  6.31578947  6.84210526  7.36842105  7.89473684  8.42105263  8.94736842\n",
            "  9.47368421 10.        ]\n"
          ]
        }
      ]
    },
    {
      "cell_type": "markdown",
      "source": [
        "7.Create an array of random values between 0 and 1 ina given shape."
      ],
      "metadata": {
        "id": "3kU8ilE-U9qi"
      }
    },
    {
      "cell_type": "code",
      "source": [
        "arr1=np.random.rand(10)\n",
        "print(arr)\n",
        "print('\\n')\n",
        "arr=np.random.rand(3,4)\n",
        "print(arr)"
      ],
      "metadata": {
        "colab": {
          "base_uri": "https://localhost:8080/"
        },
        "id": "sBHFipB6Uq-Z",
        "outputId": "1320977e-af1b-49dd-e118-708d9b303cba"
      },
      "execution_count": null,
      "outputs": [
        {
          "output_type": "stream",
          "name": "stdout",
          "text": [
            "[ 0.          0.52631579  1.05263158  1.57894737  2.10526316  2.63157895\n",
            "  3.15789474  3.68421053  4.21052632  4.73684211  5.26315789  5.78947368\n",
            "  6.31578947  6.84210526  7.36842105  7.89473684  8.42105263  8.94736842\n",
            "  9.47368421 10.        ]\n",
            "\n",
            "\n",
            "[[0.43831441 0.11471274 0.67161325 0.89424082]\n",
            " [0.03438653 0.01417469 0.70587121 0.33524663]\n",
            " [0.37490085 0.54913559 0.31862949 0.7832068 ]]\n"
          ]
        }
      ]
    },
    {
      "cell_type": "markdown",
      "source": [
        "8.Create an array of constant values in a given shape."
      ],
      "metadata": {
        "id": "cIyezGjUWRpZ"
      }
    },
    {
      "cell_type": "code",
      "source": [
        "print(np.full((4,6),10))"
      ],
      "metadata": {
        "colab": {
          "base_uri": "https://localhost:8080/"
        },
        "id": "21MaG-YTVhig",
        "outputId": "1506ece3-5373-4867-e26a-4478fe78d62d"
      },
      "execution_count": null,
      "outputs": [
        {
          "output_type": "stream",
          "name": "stdout",
          "text": [
            "[[10 10 10 10 10 10]\n",
            " [10 10 10 10 10 10]\n",
            " [10 10 10 10 10 10]\n",
            " [10 10 10 10 10 10]]\n"
          ]
        }
      ]
    },
    {
      "cell_type": "markdown",
      "source": [
        "9.Repeat each element of an array by a specified number of times using repeat() a functions."
      ],
      "metadata": {
        "id": "_GBDzadiW24S"
      }
    },
    {
      "cell_type": "code",
      "source": [
        "arr=[0,1,2]\n",
        "print(np.repeat(arr,3))"
      ],
      "metadata": {
        "colab": {
          "base_uri": "https://localhost:8080/"
        },
        "id": "8b_WrutkWmf5",
        "outputId": "45ca3b6e-91de-4cf9-acc9-5f10d66401fd"
      },
      "execution_count": null,
      "outputs": [
        {
          "output_type": "stream",
          "name": "stdout",
          "text": [
            "[0 0 0 1 1 1 2 2 2]\n"
          ]
        }
      ]
    },
    {
      "cell_type": "code",
      "source": [
        "arr=[0,1,2]\n",
        "print(np.tile(arr,3))"
      ],
      "metadata": {
        "colab": {
          "base_uri": "https://localhost:8080/"
        },
        "id": "BxwZC_KxXd1Y",
        "outputId": "5edff7a0-24c9-40d1-898a-f3249dc2e8b4"
      },
      "execution_count": null,
      "outputs": [
        {
          "output_type": "stream",
          "name": "stdout",
          "text": [
            "[0 1 2 0 1 2 0 1 2]\n"
          ]
        }
      ]
    },
    {
      "cell_type": "markdown",
      "source": [
        "10.Create an identity matrix using eye() and identify() function."
      ],
      "metadata": {
        "id": "67zNnhz2X4oa"
      }
    },
    {
      "cell_type": "code",
      "source": [
        "identity_matrix=np.eye(3)\n",
        "print(identity_matrix)"
      ],
      "metadata": {
        "colab": {
          "base_uri": "https://localhost:8080/"
        },
        "id": "7PNa3RiFXmg4",
        "outputId": "c3202fcf-c6fd-4b5f-ac0d-d20e66809d5c"
      },
      "execution_count": null,
      "outputs": [
        {
          "output_type": "stream",
          "name": "stdout",
          "text": [
            "[[1. 0. 0.]\n",
            " [0. 1. 0.]\n",
            " [0. 0. 1.]]\n"
          ]
        }
      ]
    },
    {
      "cell_type": "code",
      "source": [
        "identity_matrix=np.identity(3)\n",
        "print(identity_matrix)"
      ],
      "metadata": {
        "colab": {
          "base_uri": "https://localhost:8080/"
        },
        "id": "_gYTqBxMYSrx",
        "outputId": "ab976955-e9b4-4167-d6fb-21ab793f6d10"
      },
      "execution_count": null,
      "outputs": [
        {
          "output_type": "stream",
          "name": "stdout",
          "text": [
            "[[1. 0. 0.]\n",
            " [0. 1. 0.]\n",
            " [0. 0. 1.]]\n"
          ]
        }
      ]
    },
    {
      "cell_type": "markdown",
      "source": [
        "11.Create a 5*5 2D array for random numbers between 0 and 1."
      ],
      "metadata": {
        "id": "etd3w669ZcIx"
      }
    },
    {
      "cell_type": "code",
      "source": [
        "arr=np.random.rand(5,5)\n",
        "print(arr)"
      ],
      "metadata": {
        "colab": {
          "base_uri": "https://localhost:8080/"
        },
        "id": "v2Ym0hdgY7Qx",
        "outputId": "195c6ad0-897f-4a59-87bb-605ad5648f2b"
      },
      "execution_count": null,
      "outputs": [
        {
          "output_type": "stream",
          "name": "stdout",
          "text": [
            "[[0.55950466 0.95169911 0.504175   0.6717437  0.63643551]\n",
            " [0.83012133 0.04445706 0.88767917 0.31262648 0.95531348]\n",
            " [0.03351667 0.81184527 0.00573932 0.79590716 0.61661004]\n",
            " [0.17194455 0.63488538 0.04751311 0.64045336 0.46161222]\n",
            " [0.512565   0.61041502 0.14628931 0.63328646 0.89863386]]\n"
          ]
        }
      ]
    },
    {
      "cell_type": "markdown",
      "source": [
        "12.Sum and array along the column."
      ],
      "metadata": {
        "id": "nZbw2rcbaZiQ"
      }
    },
    {
      "cell_type": "code",
      "source": [
        "print(np.sum(arr,axis=0))"
      ],
      "metadata": {
        "colab": {
          "base_uri": "https://localhost:8080/"
        },
        "id": "FncvpvgPaImh",
        "outputId": "4db2bdd0-9e87-47d8-abe0-491810c82fa6"
      },
      "execution_count": null,
      "outputs": [
        {
          "output_type": "stream",
          "name": "stdout",
          "text": [
            "[2.10765221 3.05330184 1.59139591 3.05401716 3.5686051 ]\n"
          ]
        }
      ]
    },
    {
      "cell_type": "markdown",
      "source": [
        "13.Sum and array along the row."
      ],
      "metadata": {
        "id": "jkU2fEHCazXq"
      }
    },
    {
      "cell_type": "code",
      "source": [
        "print(np.sum(arr,axis=1))"
      ],
      "metadata": {
        "colab": {
          "base_uri": "https://localhost:8080/"
        },
        "id": "Ty8-XpExamWI",
        "outputId": "087eef93-fcbf-431b-907a-90296da98bcd"
      },
      "execution_count": null,
      "outputs": [
        {
          "output_type": "stream",
          "name": "stdout",
          "text": [
            "[3.32355798 3.03019754 2.26361844 1.95640861 2.80118966]\n"
          ]
        }
      ]
    },
    {
      "cell_type": "markdown",
      "source": [
        "14.Calculate the mean,median,standard deviation,and variance."
      ],
      "metadata": {
        "id": "qk1dGFbPbXFS"
      }
    },
    {
      "cell_type": "code",
      "source": [
        "print(np.mean(arr))\n",
        "print(np.median(arr))\n",
        "print(np.std(arr))\n",
        "print(np.var(arr))"
      ],
      "metadata": {
        "colab": {
          "base_uri": "https://localhost:8080/"
        },
        "id": "xwL92xq6bMJH",
        "outputId": "c61fa326-1b5f-47f6-9004-deb7895407e2"
      },
      "execution_count": null,
      "outputs": [
        {
          "output_type": "stream",
          "name": "stdout",
          "text": [
            "0.5349988891371773\n",
            "0.6166100366658521\n",
            "0.30069870641700025\n",
            "0.0904197120408573\n"
          ]
        }
      ]
    },
    {
      "cell_type": "markdown",
      "source": [
        "15.Sort an array along the row using the sort() function ."
      ],
      "metadata": {
        "id": "EhPkeXLicDK9"
      }
    },
    {
      "cell_type": "code",
      "source": [
        "arr=np.random.rand(5,5)\n",
        "print(arr)"
      ],
      "metadata": {
        "colab": {
          "base_uri": "https://localhost:8080/"
        },
        "id": "vZa2080Ubzb5",
        "outputId": "a17864c8-e64f-4ee8-e4a2-4632d8b7d077"
      },
      "execution_count": null,
      "outputs": [
        {
          "output_type": "stream",
          "name": "stdout",
          "text": [
            "[[0.53712587 0.8284472  0.12859134 0.319228   0.20678005]\n",
            " [0.02204639 0.22418639 0.98233989 0.25345105 0.74939057]\n",
            " [0.73691645 0.07693732 0.11349674 0.45245714 0.55014427]\n",
            " [0.03705567 0.05814053 0.13666384 0.8065361  0.45598387]\n",
            " [0.68952569 0.92002674 0.23094568 0.72980672 0.51866744]]\n"
          ]
        }
      ]
    },
    {
      "cell_type": "code",
      "source": [
        "print(np.sort(arr,axis=1))"
      ],
      "metadata": {
        "colab": {
          "base_uri": "https://localhost:8080/"
        },
        "id": "zNGIH0IMcPjx",
        "outputId": "7df33979-114d-41de-c142-cee95407e0d8"
      },
      "execution_count": null,
      "outputs": [
        {
          "output_type": "stream",
          "name": "stdout",
          "text": [
            "[[0.12859134 0.20678005 0.319228   0.53712587 0.8284472 ]\n",
            " [0.02204639 0.22418639 0.25345105 0.74939057 0.98233989]\n",
            " [0.07693732 0.11349674 0.45245714 0.55014427 0.73691645]\n",
            " [0.03705567 0.05814053 0.13666384 0.45598387 0.8065361 ]\n",
            " [0.23094568 0.51866744 0.68952569 0.72980672 0.92002674]]\n"
          ]
        }
      ]
    },
    {
      "cell_type": "markdown",
      "source": [
        "16.Append elements to an array using the append() function."
      ],
      "metadata": {
        "id": "4g7fil8Mc_lW"
      }
    },
    {
      "cell_type": "code",
      "source": [
        "arr=np.array([4,5,6,7])\n",
        "arr1=np.append(arr,8)\n",
        "arr1"
      ],
      "metadata": {
        "colab": {
          "base_uri": "https://localhost:8080/"
        },
        "id": "_Z4cebk_cp_l",
        "outputId": "ae7d93c3-2cc1-404a-91e8-c1a30d020db4"
      },
      "execution_count": null,
      "outputs": [
        {
          "output_type": "execute_result",
          "data": {
            "text/plain": [
              "array([4, 5, 6, 7, 8])"
            ]
          },
          "metadata": {},
          "execution_count": 38
        }
      ]
    },
    {
      "cell_type": "code",
      "source": [
        "arr2=np.append(arr,[9,10,11])\n",
        "print(arr2)"
      ],
      "metadata": {
        "colab": {
          "base_uri": "https://localhost:8080/"
        },
        "id": "_TkcXrv-dUEp",
        "outputId": "c7f26049-0bcb-42a7-a44c-88f21f4bf7c8"
      },
      "execution_count": null,
      "outputs": [
        {
          "output_type": "stream",
          "name": "stdout",
          "text": [
            "[ 4  5  6  7  9 10 11]\n"
          ]
        }
      ]
    },
    {
      "cell_type": "markdown",
      "source": [
        "17.Delete multiple elements in an array."
      ],
      "metadata": {
        "id": "8JEQBnsldpN5"
      }
    },
    {
      "cell_type": "code",
      "source": [
        "arr2=np.array([4,5,6,7,9,10,11])\n",
        "print(arr2)\n",
        "print('\\n')\n",
        "arr5=np.delete(arr2,[1,4])\n",
        "print(arr5)"
      ],
      "metadata": {
        "colab": {
          "base_uri": "https://localhost:8080/"
        },
        "id": "QdVJiZyidieZ",
        "outputId": "5c664dec-cc97-40d5-f62a-e0579a9a6001"
      },
      "execution_count": null,
      "outputs": [
        {
          "output_type": "stream",
          "name": "stdout",
          "text": [
            "[ 4  5  6  7  9 10 11]\n",
            "\n",
            "\n",
            "[ 4  6  7 10 11]\n"
          ]
        }
      ]
    },
    {
      "cell_type": "markdown",
      "source": [
        "18.Concatenate elements from 2 arrays."
      ],
      "metadata": {
        "id": "hfvSj0c_eOSj"
      }
    },
    {
      "cell_type": "code",
      "source": [
        "arr1=np.array([[1,2,3,4],[1,2,3,4]])\n",
        "arr2=np.array([[5,6,7,8],[5,6,7,8]])"
      ],
      "metadata": {
        "id": "PQV_CT1XeCB5"
      },
      "execution_count": null,
      "outputs": []
    },
    {
      "cell_type": "code",
      "source": [
        "cat=np.concatenate((arr1,arr2),axis=0)\n",
        "print(cat)"
      ],
      "metadata": {
        "colab": {
          "base_uri": "https://localhost:8080/"
        },
        "id": "4JkW1y6EekBR",
        "outputId": "45936c05-725f-4173-f6dd-812321720bc9"
      },
      "execution_count": null,
      "outputs": [
        {
          "output_type": "stream",
          "name": "stdout",
          "text": [
            "[[1 2 3 4]\n",
            " [1 2 3 4]\n",
            " [5 6 7 8]\n",
            " [5 6 7 8]]\n"
          ]
        }
      ]
    },
    {
      "cell_type": "code",
      "source": [
        "cat=np.concatenate((arr1,arr2),axis=1)\n",
        "print(cat)"
      ],
      "metadata": {
        "colab": {
          "base_uri": "https://localhost:8080/"
        },
        "id": "sFOFpi-3e1K5",
        "outputId": "59ba8aa7-04bc-488b-88ff-86c16bcd453d"
      },
      "execution_count": null,
      "outputs": [
        {
          "output_type": "stream",
          "name": "stdout",
          "text": [
            "[[1 2 3 4 5 6 7 8]\n",
            " [1 2 3 4 5 6 7 8]]\n"
          ]
        }
      ]
    },
    {
      "cell_type": "code",
      "source": [],
      "metadata": {
        "id": "XUAqxkFZfMJQ"
      },
      "execution_count": null,
      "outputs": []
    }
  ]
}