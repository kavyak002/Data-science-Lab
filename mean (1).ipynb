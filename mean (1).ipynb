{
 "cells": [
  {
   "cell_type": "code",
   "execution_count": 1,
   "id": "281bb373",
   "metadata": {},
   "outputs": [
    {
     "name": "stdout",
     "output_type": "stream",
     "text": [
      "The average of list value is:2\n"
     ]
    }
   ],
   "source": [
    "#Mean\n",
    "import statistics\n",
    "li=[1,2,3,3,2,2,2,1]\n",
    "print(\"The average of list value is:\",end=\"\")\n",
    "print(statistics.mean(li))"
   ]
  },
  {
   "cell_type": "code",
   "execution_count": 4,
   "id": "6afe11f5",
   "metadata": {},
   "outputs": [
    {
     "name": "stdout",
     "output_type": "stream",
     "text": [
      "Median of data-set 1 is 5\n",
      "Median of data-set 2 is 5.9\n",
      "Median of data-set 3 is 2\n",
      "Median of data-set 4 is -5\n",
      "Median of data-set 5 is 0.0\n"
     ]
    }
   ],
   "source": [
    "#Median\n",
    "from statistics import median\n",
    "from fractions import Fraction as fr\n",
    "data1=(2,3,4,5,7,9,11)\n",
    "data2=(2.4,5.1,6.7,8.9)\n",
    "data3=(fr(1,2),fr(44,12),fr(10,3),fr(2,3))\n",
    "data4=(-5,-1,-12,-19,-3)\n",
    "data5=(-1,-2,-3,-4,4,3,2,1)\n",
    "print(\"Median of data-set 1 is % s\"%(median(data1)))\n",
    "print(\"Median of data-set 2 is % s\"%(median(data2)))\n",
    "print(\"Median of data-set 3 is % s\"%(median(data3)))\n",
    "print(\"Median of data-set 4 is % s\"%(median(data4)))\n",
    "print(\"Median of data-set 5 is % s\"%(median(data5)))"
   ]
  },
  {
   "cell_type": "code",
   "execution_count": 6,
   "id": "77e52d37",
   "metadata": {},
   "outputs": [
    {
     "name": "stdout",
     "output_type": "stream",
     "text": [
      "Mode of data set 1 is 5\n",
      "Mode of data set 2 is 1.3\n",
      "Mode of data set 3 is 1/2\n",
      "Mode of data set 4 is -2\n",
      "Mode of data set 5 is black\n"
     ]
    }
   ],
   "source": [
    "#Mode\n",
    "from statistics import mode\n",
    "from fractions import Fraction as fr\n",
    "data1=(2,3,3,4,5,5,5,5,6,6,6,7)\n",
    "data2=(2.4,1.3,1.3,1.3,2.4,4.6)\n",
    "data3=(fr(1,2),fr(1,2),fr(10,3),fr(2,3))\n",
    "data4=(-1,-2,-2,-2,-7,-7,-9)\n",
    "data5=(\"red\",\"blue\",\"black\",\"blue\",\"black\",\"black\",\"brown\")\n",
    "print(\"Mode of data set 1 is % s\"%(mode(data1)))\n",
    "print(\"Mode of data set 2 is % s\"%(mode(data2)))\n",
    "print(\"Mode of data set 3 is % s\"%(mode(data3)))\n",
    "print(\"Mode of data set 4 is % s\"%(mode(data4)))\n",
    "print(\"Mode of data set 5 is % s\"%(mode(data5)))"
   ]
  },
  {
   "cell_type": "code",
   "execution_count": 7,
   "id": "db920733",
   "metadata": {},
   "outputs": [
    {
     "name": "stdout",
     "output_type": "stream",
     "text": [
      "Maximum=5,Minimum=1 and Range=4\n"
     ]
    }
   ],
   "source": [
    "#Range\n",
    "arr=[1,2,3,4,5]\n",
    "Maximum=max(arr)\n",
    "Minimum=min(arr)\n",
    "Range=Maximum-Minimum\n",
    "print(\"Maximum={},Minimum={} and Range={}\".format(Maximum,Minimum,Range))"
   ]
  },
  {
   "cell_type": "code",
   "execution_count": 9,
   "id": "53d0cf69",
   "metadata": {},
   "outputs": [
    {
     "name": "stdout",
     "output_type": "stream",
     "text": [
      "Variance of Sample1 is 15.80952380952381\n",
      "Variance of Sample2 is 3.5\n",
      "Variance of Sample3 is 61.125\n",
      "Variance of Sample4 is 1/45\n",
      "Variance of Sample5 is 0.17613000000000006\n"
     ]
    }
   ],
   "source": [
    "#Variance\n",
    "from statistics import variance\n",
    "from fractions import Fraction as fr\n",
    "sample1=(1,2,5,4,8,9,12)\n",
    "sample2=(-2,-4,-3,-1,-5,-6)\n",
    "sample3=(-9,-1,-0,2,1,3,4,19)\n",
    "sample4=(fr(1,2),fr(2,3),fr(3,4),fr(5,6),fr(7,8))\n",
    "sample5=(1.23,1.45,2.1,2.2,1.9)\n",
    "print(\"Variance of Sample1 is % s\"%(variance(sample1)))\n",
    "print(\"Variance of Sample2 is % s\"%(variance(sample2)))\n",
    "print(\"Variance of Sample3 is % s\"%(variance(sample3)))\n",
    "print(\"Variance of Sample4 is % s\"%(variance(sample4)))\n",
    "print(\"Variance of Sample5 is % s\"%(variance(sample5)))"
   ]
  },
  {
   "cell_type": "code",
   "execution_count": 9,
   "id": "2620c206",
   "metadata": {},
   "outputs": [
    {
     "name": "stdout",
     "output_type": "stream",
     "text": [
      "The Standard Deviation of Sample1 is 3.9761191895520196\n",
      "The Standard Deviation of Sample2 is 1.8708286933869707\n",
      "The Standard Deviation of Sample3 is 7.8182478855559445\n",
      "The Standard Deviation of Sample4 is 0.41967844833872525\n"
     ]
    }
   ],
   "source": [
    "#Standard Deviation\n",
    "from statistics import stdev\n",
    "from fractions import Fraction as fr\n",
    "sample1=(1,2,5,4,8,9,12)\n",
    "sample2=(-2,-4,-3,-1,-5,-6)\n",
    "sample3=(-9,-1,-0,2,1,3,4,19)\n",
    "sample4=(1.23,1.45,2.1,2.2,1.9)\n",
    "print(\"The Standard Deviation of Sample1 is % s\"%(stdev(sample1)))\n",
    "print(\"The Standard Deviation of Sample2 is % s\"%(stdev(sample2)))\n",
    "print(\"The Standard Deviation of Sample3 is % s\"%(stdev(sample3)))\n",
    "print(\"The Standard Deviation of Sample4 is % s\"%(stdev(sample4)))"
   ]
  },
  {
   "cell_type": "code",
   "execution_count": 10,
   "id": "b86bf132",
   "metadata": {},
   "outputs": [
    {
     "data": {
      "text/plain": [
       "DescribeResult(nobs=8, minmax=(-9, 19), mean=2.375, variance=61.125, skewness=1.2249147451895397, kurtosis=3.662192781060634)"
      ]
     },
     "execution_count": 10,
     "metadata": {},
     "output_type": "execute_result"
    }
   ],
   "source": [
    "import scipy\n",
    "from scipy import stats\n",
    "result=scipy.stats.describe(sample3,ddof=1,bias=False)\n",
    "result"
   ]
  },
  {
   "cell_type": "code",
   "execution_count": 12,
   "id": "f6642591",
   "metadata": {},
   "outputs": [],
   "source": [
    "import numpy as np\n",
    "import pandas as pd\n",
    "x = list(range(-10, 11))\n",
    "y = [0, 2, 2, 2, 2, 3, 3, 6, 7, 4, 7, 6, 6, 9, 4, \n",
    "5, 5, 10, 11, 12, 14]\n",
    "x_, y_ = np.array(x), np.array(y)\n",
    "x__, y__ = pd.Series(x_), pd.Series(y_)"
   ]
  },
  {
   "cell_type": "code",
   "execution_count": 13,
   "id": "28e6161e",
   "metadata": {},
   "outputs": [
    {
     "data": {
      "text/plain": [
       "array([-10,  -9,  -8,  -7,  -6,  -5,  -4,  -3,  -2,  -1,   0,   1,   2,\n",
       "         3,   4,   5,   6,   7,   8,   9,  10])"
      ]
     },
     "execution_count": 13,
     "metadata": {},
     "output_type": "execute_result"
    }
   ],
   "source": [
    "x_"
   ]
  },
  {
   "cell_type": "code",
   "execution_count": 14,
   "id": "483d3607",
   "metadata": {},
   "outputs": [
    {
     "data": {
      "text/plain": [
       "[-10, -9, -8, -7, -6, -5, -4, -3, -2, -1, 0, 1, 2, 3, 4, 5, 6, 7, 8, 9, 10]"
      ]
     },
     "execution_count": 14,
     "metadata": {},
     "output_type": "execute_result"
    }
   ],
   "source": [
    "x"
   ]
  },
  {
   "cell_type": "code",
   "execution_count": 15,
   "id": "9c152ed9",
   "metadata": {},
   "outputs": [
    {
     "data": {
      "text/plain": [
       "0    -10\n",
       "1     -9\n",
       "2     -8\n",
       "3     -7\n",
       "4     -6\n",
       "5     -5\n",
       "6     -4\n",
       "7     -3\n",
       "8     -2\n",
       "9     -1\n",
       "10     0\n",
       "11     1\n",
       "12     2\n",
       "13     3\n",
       "14     4\n",
       "15     5\n",
       "16     6\n",
       "17     7\n",
       "18     8\n",
       "19     9\n",
       "20    10\n",
       "dtype: int32"
      ]
     },
     "execution_count": 15,
     "metadata": {},
     "output_type": "execute_result"
    }
   ],
   "source": [
    "x__"
   ]
  },
  {
   "cell_type": "code",
   "execution_count": 16,
   "id": "bc98ec75",
   "metadata": {},
   "outputs": [
    {
     "data": {
      "text/plain": [
       "19.95"
      ]
     },
     "execution_count": 16,
     "metadata": {},
     "output_type": "execute_result"
    }
   ],
   "source": [
    "n = len(x)\n",
    "mean_x, mean_y = sum(x) / n, sum(y) / n\n",
    "cov_xy = (sum((x[k] - mean_x) * (y[k] - mean_y) for k in range(n))\n",
    "/ (n - 1))\n",
    "cov_xy"
   ]
  },
  {
   "cell_type": "code",
   "execution_count": 17,
   "id": "ce0eee6d",
   "metadata": {},
   "outputs": [
    {
     "data": {
      "text/plain": [
       "array([[38.5       , 19.95      ],\n",
       "       [19.95      , 13.91428571]])"
      ]
     },
     "execution_count": 17,
     "metadata": {},
     "output_type": "execute_result"
    }
   ],
   "source": [
    "cov_matrix = np.cov(x_, y_)\n",
    "cov_matrix"
   ]
  },
  {
   "cell_type": "code",
   "execution_count": null,
   "id": "0cbf1f30",
   "metadata": {},
   "outputs": [],
   "source": []
  }
 ],
 "metadata": {
  "kernelspec": {
   "display_name": "Python 3 (ipykernel)",
   "language": "python",
   "name": "python3"
  },
  "language_info": {
   "codemirror_mode": {
    "name": "ipython",
    "version": 3
   },
   "file_extension": ".py",
   "mimetype": "text/x-python",
   "name": "python",
   "nbconvert_exporter": "python",
   "pygments_lexer": "ipython3",
   "version": "3.9.12"
  }
 },
 "nbformat": 4,
 "nbformat_minor": 5
}
