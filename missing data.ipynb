{
 "cells": [
  {
   "cell_type": "code",
   "execution_count": 5,
   "id": "900938f0",
   "metadata": {},
   "outputs": [
    {
     "name": "stdout",
     "output_type": "stream",
     "text": [
      "[ 3. nan  0.  4. nan]\n"
     ]
    }
   ],
   "source": [
    "#Calculation with missing data\n",
    "import numpy as np\n",
    "import pandas as pd\n",
    "array=np.array([3,np.nan,0,4,np.nan])\n",
    "print(array)"
   ]
  },
  {
   "cell_type": "code",
   "execution_count": 6,
   "id": "4123d947",
   "metadata": {},
   "outputs": [],
   "source": [
    "#cleaning missing data\n",
    "import numpy as np\n",
    "import pandas as pd\n",
    "#create a csv dataset\n",
    "data_string='''ID,Gender,salary,country,company\n",
    "1,Male,15000,India,Google\n",
    "2,Female,45000,China,NaN\n",
    "3,Female,25000,India,Google\n",
    "4,NaN,NaN,Australia,Google\n",
    "5,Male,NaN,India,Google\n",
    "6,Male,54000,NaN,Alibaba\n",
    "7,NaN,74000,China,NaN\n",
    "8,Male,14000,Australia,NaN\n",
    "9,Female,15000,NaN,NaN\n",
    "10,Male,33000,Australia,NaN'''\n",
    "with open('salary.csv','w')as out:\n",
    "    out.write(data_string)"
   ]
  },
  {
   "cell_type": "code",
   "execution_count": 10,
   "id": "db00214d",
   "metadata": {},
   "outputs": [
    {
     "name": "stdout",
     "output_type": "stream",
     "text": [
      "Salary Dataset:\n",
      "    ID  Gender   salary    country  company\n",
      "0   1    Male  15000.0      India   Google\n",
      "1   2  Female  45000.0      China      NaN\n",
      "2   3  Female  25000.0      India   Google\n",
      "3   4     NaN      NaN  Australia   Google\n",
      "4   5    Male      NaN      India   Google\n",
      "5   6    Male  54000.0        NaN  Alibaba\n",
      "6   7     NaN  74000.0      China      NaN\n",
      "7   8    Male  14000.0  Australia      NaN\n",
      "8   9  Female  15000.0        NaN      NaN\n",
      "9  10    Male  33000.0  Australia      NaN\n",
      "Missing Data\n",
      "       ID  Gender  salary  country  company\n",
      "0  False   False   False    False    False\n",
      "1  False   False   False    False     True\n",
      "2  False   False   False    False    False\n",
      "3  False    True    True    False    False\n",
      "4  False   False    True    False    False\n",
      "5  False   False   False     True    False\n",
      "6  False    True   False    False     True\n",
      "7  False   False   False    False     True\n",
      "8  False   False   False     True     True\n",
      "9  False   False   False    False     True\n",
      "Missing Data\n",
      "       ID  Gender  salary  country  company\n",
      "0  False   False   False    False    False\n",
      "1  False   False   False    False     True\n",
      "2  False   False   False    False    False\n",
      "3  False    True    True    False    False\n",
      "4  False   False    True    False    False\n",
      "5  False   False   False     True    False\n",
      "6  False    True   False    False     True\n",
      "7  False   False   False    False     True\n",
      "8  False   False   False     True     True\n",
      "9  False   False   False    False     True\n",
      "Filter based on columns:\n",
      "    ID  Gender   salary    country  company\n",
      "1   2  Female  45000.0      China      NaN\n",
      "3   4     NaN      NaN  Australia   Google\n",
      "4   5    Male      NaN      India   Google\n",
      "5   6    Male  54000.0        NaN  Alibaba\n",
      "6   7     NaN  74000.0      China      NaN\n",
      "7   8    Male  14000.0  Australia      NaN\n",
      "8   9  Female  15000.0        NaN      NaN\n",
      "9  10    Male  33000.0  Australia      NaN\n",
      "Sum up the missing values:\n",
      " ID         0\n",
      "Gender     2\n",
      "salary     2\n",
      "country    2\n",
      "company    5\n",
      "dtype: int64\n"
     ]
    }
   ],
   "source": [
    "#Import the dataset\n",
    "df=pd.read_csv('salary.csv')\n",
    "print('Salary Dataset:\\n',df)\n",
    "#Check for missing data\n",
    "print('Missing Data\\n',df.isna())\n",
    "print('Missing Data\\n',df.isnull())\n",
    "#print only missing data\n",
    "print('Filter based on columns:\\n',df[df.isnull().any(axis=1)])\n",
    "#sum up the missing values\n",
    "print('Sum up the missing values:\\n',df.isnull().sum())"
   ]
  },
  {
   "cell_type": "code",
   "execution_count": 11,
   "id": "64bebdcf",
   "metadata": {},
   "outputs": [
    {
     "name": "stdout",
     "output_type": "stream",
     "text": [
      "   ID  Gender   salary country company\n",
      "0   1    Male  15000.0   India  Google\n",
      "2   3  Female  25000.0   India  Google\n"
     ]
    }
   ],
   "source": [
    "#droping missing data\n",
    "df.dropna(inplace=True)\n",
    "print(df)"
   ]
  },
  {
   "cell_type": "code",
   "execution_count": 14,
   "id": "bd037547",
   "metadata": {},
   "outputs": [
    {
     "name": "stdout",
     "output_type": "stream",
     "text": [
      "   ID  Gender   salary country company\n",
      "0   1    Male  15000.0   India  Google\n",
      "2   3  Female  25000.0   India  Google\n"
     ]
    }
   ],
   "source": [
    "#Replacing missing data\n",
    "df[\"salary\"].fillna(20000,inplace=True)\n",
    "print(df)"
   ]
  },
  {
   "cell_type": "code",
   "execution_count": 15,
   "id": "5317cdad",
   "metadata": {},
   "outputs": [
    {
     "data": {
      "text/plain": [
       "0    False\n",
       "2    False\n",
       "Name: Gender, dtype: bool"
      ]
     },
     "execution_count": 15,
     "metadata": {},
     "output_type": "execute_result"
    }
   ],
   "source": [
    "#Important Functions for handling missing data in pandas\n",
    "#isnull()\n",
    "#for specific column data,we access using the df[] syntax:\n",
    "gender=pd.isnull(df[\"Gender\"])\n",
    "gender"
   ]
  },
  {
   "cell_type": "code",
   "execution_count": 16,
   "id": "f3febb20",
   "metadata": {},
   "outputs": [
    {
     "name": "stdout",
     "output_type": "stream",
     "text": [
      "Non missing data\n",
      "      ID  Gender  salary  country  company\n",
      "0  True    True    True     True     True\n",
      "2  True    True    True     True     True\n"
     ]
    }
   ],
   "source": [
    "#notnull()\n",
    "print('Non missing data\\n',df.notnull())"
   ]
  },
  {
   "cell_type": "code",
   "execution_count": 19,
   "id": "13c06a09",
   "metadata": {},
   "outputs": [
    {
     "name": "stdout",
     "output_type": "stream",
     "text": [
      "Drop missing company data\n",
      " 0    Google\n",
      "2    Google\n",
      "Name: company, dtype: object\n"
     ]
    },
    {
     "data": {
      "text/html": [
       "<div>\n",
       "<style scoped>\n",
       "    .dataframe tbody tr th:only-of-type {\n",
       "        vertical-align: middle;\n",
       "    }\n",
       "\n",
       "    .dataframe tbody tr th {\n",
       "        vertical-align: top;\n",
       "    }\n",
       "\n",
       "    .dataframe thead th {\n",
       "        text-align: right;\n",
       "    }\n",
       "</style>\n",
       "<table border=\"1\" class=\"dataframe\">\n",
       "  <thead>\n",
       "    <tr style=\"text-align: right;\">\n",
       "      <th></th>\n",
       "      <th>ID</th>\n",
       "      <th>Gender</th>\n",
       "      <th>salary</th>\n",
       "      <th>country</th>\n",
       "      <th>company</th>\n",
       "    </tr>\n",
       "  </thead>\n",
       "  <tbody>\n",
       "    <tr>\n",
       "      <th>0</th>\n",
       "      <td>1</td>\n",
       "      <td>Male</td>\n",
       "      <td>15000.0</td>\n",
       "      <td>India</td>\n",
       "      <td>Google</td>\n",
       "    </tr>\n",
       "    <tr>\n",
       "      <th>2</th>\n",
       "      <td>3</td>\n",
       "      <td>Female</td>\n",
       "      <td>25000.0</td>\n",
       "      <td>India</td>\n",
       "      <td>Google</td>\n",
       "    </tr>\n",
       "  </tbody>\n",
       "</table>\n",
       "</div>"
      ],
      "text/plain": [
       "   ID  Gender   salary country company\n",
       "0   1    Male  15000.0   India  Google\n",
       "2   3  Female  25000.0   India  Google"
      ]
     },
     "execution_count": 19,
     "metadata": {},
     "output_type": "execute_result"
    }
   ],
   "source": [
    "#dropna()\n",
    "print('Drop missing company data\\n',df.company.dropna())\n",
    "df.dropna()"
   ]
  },
  {
   "cell_type": "code",
   "execution_count": 20,
   "id": "54fe4449",
   "metadata": {},
   "outputs": [
    {
     "name": "stdout",
     "output_type": "stream",
     "text": [
      "   ID  Gender   salary country company\n",
      "0   1    Male  15000.0   India  Google\n",
      "2   3  Female  25000.0   India  Google\n"
     ]
    }
   ],
   "source": [
    "#Eliminate he columns with atleast one missing value.\n",
    "df.dropna(axis=1)\n",
    "print(df)"
   ]
  },
  {
   "cell_type": "code",
   "execution_count": 21,
   "id": "44f42255",
   "metadata": {},
   "outputs": [
    {
     "name": "stdout",
     "output_type": "stream",
     "text": [
      "   ID  Gender   salary country company\n",
      "0   1    Male  15000.0   India  Google\n",
      "2   3  Female  25000.0   India  Google\n"
     ]
    }
   ],
   "source": [
    "#droping rows in a csv file that include atleast one null() value.\n",
    "new_df=df.dropna(axis=0,how='any')\n",
    "print(new_df)"
   ]
  },
  {
   "cell_type": "code",
   "execution_count": 22,
   "id": "a7f9b310",
   "metadata": {},
   "outputs": [
    {
     "name": "stdout",
     "output_type": "stream",
     "text": [
      "Fill mising Data\n",
      "    ID  Gender   salary country company\n",
      "0   1    Male  15000.0   India  Google\n",
      "2   3  Female  25000.0   India  Google\n"
     ]
    }
   ],
   "source": [
    "#fillna()\n",
    "print('Fill mising Data\\n',df.fillna(0))"
   ]
  },
  {
   "cell_type": "code",
   "execution_count": 26,
   "id": "545a1795",
   "metadata": {},
   "outputs": [
    {
     "name": "stdout",
     "output_type": "stream",
     "text": [
      "Fill missing Data\n",
      "    ID  Gender   salary country company\n",
      "0   1    Male  15000.0   India  Google\n",
      "2   3  Female  25000.0   India  Google\n"
     ]
    }
   ],
   "source": [
    "#to fill in a null value witha previous value\n",
    "print('Fill missing Data\\n',df.fillna(method='pad'))"
   ]
  },
  {
   "cell_type": "code",
   "execution_count": 27,
   "id": "25312e60",
   "metadata": {},
   "outputs": [
    {
     "name": "stdout",
     "output_type": "stream",
     "text": [
      "Fill missing data\n",
      "    ID  Gender   salary country company\n",
      "0   1    Male  15000.0   India  Google\n",
      "2   3  Female  25000.0   India  Google\n"
     ]
    }
   ],
   "source": [
    "#to fill a null value with a next value.\n",
    "print('Fill missing data\\n',df.fillna(method='bfill'))"
   ]
  },
  {
   "cell_type": "code",
   "execution_count": 28,
   "id": "2e97d29e",
   "metadata": {},
   "outputs": [
    {
     "name": "stdout",
     "output_type": "stream",
     "text": [
      "Fill missing data\n",
      " None\n"
     ]
    }
   ],
   "source": [
    "#to fill in a full value of a specific column with a specified value.\n",
    "print('Fill missing data\\n',df[\"Gender\"].fillna(\"No Gender\",inplace=True))"
   ]
  },
  {
   "cell_type": "code",
   "execution_count": 33,
   "id": "b34e7085",
   "metadata": {},
   "outputs": [
    {
     "name": "stdout",
     "output_type": "stream",
     "text": [
      "   ID  Gender   salary country    company\n",
      "0   1    Male  15000.0   India  Microsoft\n",
      "2   3  Female  25000.0   India  Microsoft\n"
     ]
    }
   ],
   "source": [
    "#replace()\n",
    "print(df.replace(to_replace='Google',value='Microsoft'))"
   ]
  },
  {
   "cell_type": "code",
   "execution_count": 35,
   "id": "4dd52b0b",
   "metadata": {},
   "outputs": [
    {
     "name": "stdout",
     "output_type": "stream",
     "text": [
      "   ID  Gender   salary country company\n",
      "0   1    Male  15000.0   India  Google\n",
      "2   3  Female  25000.0   India  Google\n"
     ]
    }
   ],
   "source": [
    "#interpolate\n",
    "print(df.interpolate(method='linear',limit_direction='forward'))"
   ]
  },
  {
   "cell_type": "code",
   "execution_count": null,
   "id": "0caa9826",
   "metadata": {},
   "outputs": [],
   "source": []
  }
 ],
 "metadata": {
  "kernelspec": {
   "display_name": "Python 3 (ipykernel)",
   "language": "python",
   "name": "python3"
  },
  "language_info": {
   "codemirror_mode": {
    "name": "ipython",
    "version": 3
   },
   "file_extension": ".py",
   "mimetype": "text/x-python",
   "name": "python",
   "nbconvert_exporter": "python",
   "pygments_lexer": "ipython3",
   "version": "3.9.12"
  }
 },
 "nbformat": 4,
 "nbformat_minor": 5
}
