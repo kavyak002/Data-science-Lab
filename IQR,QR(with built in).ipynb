{
 "cells": [
  {
   "cell_type": "code",
   "execution_count": 1,
   "id": "a42822c4",
   "metadata": {},
   "outputs": [
    {
     "name": "stdout",
     "output_type": "stream",
     "text": [
      "34.0\n"
     ]
    }
   ],
   "source": [
    "#calculating inter-quartile range without using library function\n",
    "import numpy as np \n",
    "data = [32, 36, 46, 47, 56, 69, 75, 79, 79, 88, 89, 91, 92, 93, 96, 97, \n",
    "        101, 105, 112, 116]  \n",
    "# First quartile (Q1)\n",
    "Q1 = np.median(data[:10])  \n",
    "# Third quartile (Q3)\n",
    "Q3 = np.median(data[10:])  \n",
    "# Interquartile range (IQR)\n",
    "IQR = Q3 - Q1 \n",
    "print(IQR)"
   ]
  },
  {
   "cell_type": "code",
   "execution_count": 2,
   "id": "afa30fc8",
   "metadata": {},
   "outputs": [
    {
     "name": "stdout",
     "output_type": "stream",
     "text": [
      "34.0\n"
     ]
    }
   ],
   "source": [
    "#calculating inter-quartile range  using library function\n",
    "# Import stats from scipy library\n",
    "from scipy import stats\n",
    "\n",
    "data = [32, 36, 46, 47, 56, 69, 75, 79, 79, 88, 89, 91, 92, 93, 96, 97,\n",
    "        101, 105, 112, 116]\n",
    "\n",
    "# Interquartile range (IQR)\n",
    "IQR = stats.iqr(data, interpolation = 'midpoint')\n",
    "\n",
    "print(IQR)"
   ]
  },
  {
   "cell_type": "code",
   "execution_count": 6,
   "id": "de81a445",
   "metadata": {},
   "outputs": [
    {
     "name": "stdout",
     "output_type": "stream",
     "text": [
      "Enter a multiple value: 3 5 8 7\n",
      "Mean / Average is: 5.75\n"
     ]
    }
   ],
   "source": [
    "n_num = list(map(int, input(\"Enter a multiple value: \").split()))\n",
    "n = len(n_num)\n",
    "get_sum = sum(n_num)\n",
    "mean = get_sum / n\n",
    "print(\"Mean / Average is: \" +str(mean))"
   ]
  },
  {
   "cell_type": "code",
   "execution_count": 5,
   "id": "60b211ea",
   "metadata": {},
   "outputs": [
    {
     "name": "stdout",
     "output_type": "stream",
     "text": [
      "Enter the number of elements: 5\n",
      "enter the value:3\n",
      "enter the value:4\n",
      "enter the value:1\n",
      "enter the value:2\n",
      "enter the value:7\n",
      "Mean / Average is: 3.4\n"
     ]
    }
   ],
   "source": [
    "n=int(input(\"Enter the number of elements: \"))\n",
    "mylist=[]\n",
    "for i  in range(0,n):\n",
    "    ele=int(input(\"enter the value:\"))\n",
    "    mylist.append(ele)\n",
    "n = len(mylist)\n",
    "get_sum = sum(mylist)\n",
    "mean = get_sum / n\n",
    "print(\"Mean / Average is: \" +str(mean))"
   ]
  },
  {
   "cell_type": "code",
   "execution_count": 7,
   "id": "043daa56",
   "metadata": {},
   "outputs": [
    {
     "name": "stdout",
     "output_type": "stream",
     "text": [
      "Enter the numbers:5 6 7 8\n",
      "5 6 7 8\n"
     ]
    }
   ],
   "source": [
    "num=input(\"Enter the numbers:\")\n",
    "print(num)"
   ]
  },
  {
   "cell_type": "code",
   "execution_count": null,
   "id": "7d82061c",
   "metadata": {},
   "outputs": [],
   "source": []
  }
 ],
 "metadata": {
  "kernelspec": {
   "display_name": "Python 3 (ipykernel)",
   "language": "python",
   "name": "python3"
  },
  "language_info": {
   "codemirror_mode": {
    "name": "ipython",
    "version": 3
   },
   "file_extension": ".py",
   "mimetype": "text/x-python",
   "name": "python",
   "nbconvert_exporter": "python",
   "pygments_lexer": "ipython3",
   "version": "3.9.12"
  }
 },
 "nbformat": 4,
 "nbformat_minor": 5
}
